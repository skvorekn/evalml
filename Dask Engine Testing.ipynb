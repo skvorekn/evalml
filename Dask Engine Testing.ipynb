{
 "cells": [
  {
   "cell_type": "code",
   "execution_count": 9,
   "metadata": {},
   "outputs": [],
   "source": [
    "from evalml.pipelines import BinaryClassificationPipeline\n",
    "from sklearn import datasets\n",
    "import time\n",
    "from evalml.tests.automl_tests.test_dask_engine import test_automl_data\n",
    "from evalml.automl.engine.dask_engine import DaskEngine\n",
    "from evalml.automl.engine.sequential_engine import SequentialEngine\n",
    "from dask.distributed import Client, progress\n",
    "import pandas as pd"
   ]
  },
  {
   "cell_type": "code",
   "execution_count": 11,
   "metadata": {},
   "outputs": [
    {
     "name": "stderr",
     "output_type": "stream",
     "text": [
      "Port 8787 is already in use.\n",
      "Perhaps you already have a cluster running?\n",
      "Hosting the HTTP server on port 53707 instead\n"
     ]
    },
    {
     "data": {
      "text/html": [
       "<table style=\"border: 2px solid white;\">\n",
       "<tr>\n",
       "<td style=\"vertical-align: top; border: 0px solid white\">\n",
       "<h3 style=\"text-align: left;\">Client</h3>\n",
       "<ul style=\"text-align: left; list-style: none; margin: 0; padding: 0;\">\n",
       "  <li><b>Scheduler: </b>tcp://127.0.0.1:53708</li>\n",
       "  <li><b>Dashboard: </b><a href='http://127.0.0.1:53707/status' target='_blank'>http://127.0.0.1:53707/status</a></li>\n",
       "</ul>\n",
       "</td>\n",
       "<td style=\"vertical-align: top; border: 0px solid white\">\n",
       "<h3 style=\"text-align: left;\">Cluster</h3>\n",
       "<ul style=\"text-align: left; list-style:none; margin: 0; padding: 0;\">\n",
       "  <li><b>Workers: </b>0</li>\n",
       "  <li><b>Cores: </b>0</li>\n",
       "  <li><b>Memory: </b>0 B</li>\n",
       "</ul>\n",
       "</td>\n",
       "</tr>\n",
       "</table>"
      ],
      "text/plain": [
       "<Client: not connected>"
      ]
     },
     "execution_count": 11,
     "metadata": {},
     "output_type": "execute_result"
    }
   ],
   "source": [
    "# Get some information about the local cluster that's made\n",
    "client = Client()\n",
    "client.close()\n",
    "\n",
    "client"
   ]
  },
  {
   "cell_type": "code",
   "execution_count": 3,
   "metadata": {},
   "outputs": [],
   "source": [
    "def do_parallel_1(func, pipelines, X, y):\n",
    "    \"\"\" A method of performing pipeline evaluation in parallel\"\"\"\n",
    "    futures = []\n",
    "    for pipeline in pipelines:\n",
    "        futures.append(func(X=X, y=y, automl_data=automl_data, pipeline=pipeline))\n",
    "    results = [f.get_result() for f in futures]\n",
    "    return results\n",
    "\n",
    "def time_parallel(func, pipelines, X, y, client):\n",
    "    parallel_time_start = time.time()\n",
    "    X, y = client.scatter([X,y])\n",
    "    do_parallel_1(func, pipelines, X, y)\n",
    "    parallel_time_taken = time.time()-parallel_time_start\n",
    "    return parallel_time_taken, results"
   ]
  },
  {
   "cell_type": "code",
   "execution_count": 4,
   "metadata": {},
   "outputs": [],
   "source": [
    "def time_sequential(func, pipelines, X, y):\n",
    "    sequential_time_start = time.time()\n",
    "    futures = []\n",
    "    for pipeline in pipelines:\n",
    "        futures.append(func(X=X, y=y, automl_data=automl_data, pipeline=pipeline))\n",
    "    results = [f.get_result() for f in futures]\n",
    "    sequential_time_taken = time.time()-sequential_time_start\n",
    "    return sequential_time_taken, results                                                                      "
   ]
  },
  {
   "cell_type": "code",
   "execution_count": 7,
   "metadata": {},
   "outputs": [
    {
     "name": "stderr",
     "output_type": "stream",
     "text": [
      "Port 8787 is already in use.\n",
      "Perhaps you already have a cluster running?\n",
      "Hosting the HTTP server on port 53478 instead\n"
     ]
    },
    {
     "name": "stdout",
     "output_type": "stream",
     "text": [
      "Num_samples: 10 Sequential Time:  5.634020090103149 Parallel Time: 5.487677335739136 Speedup: 1.026667521687352\n",
      "Num_samples: 40 Sequential Time:  4.191630840301514 Parallel Time: 1.5044269561767578 Speedup: 2.7861976436222746\n",
      "Num_samples: 160 Sequential Time:  3.287222146987915 Parallel Time: 1.5292212963104248 Speedup: 2.149605263096352\n",
      "Num_samples: 640 Sequential Time:  2.722060203552246 Parallel Time: 1.0425269603729248 Speedup: 2.6110213999439704\n",
      "Num_samples: 2560 Sequential Time:  12.575285911560059 Parallel Time: 1.3072710037231445 Speedup: 9.619494256160575\n",
      "Num_samples: 5120 Sequential Time:  13.48166298866272 Parallel Time: 1.3592989444732666 Speedup: 9.918100093785414\n",
      "Num_samples: 10240 Sequential Time:  15.500561714172363 Parallel Time: 1.8754370212554932 Speedup: 8.265039848576553\n",
      "Num_samples: 20480 Sequential Time:  20.93588900566101 Parallel Time: 3.755613088607788 Speedup: 5.574559602310359\n",
      "Num_samples: 40960 Sequential Time:  28.772375106811523 Parallel Time: 7.698699951171875 Speedup: 3.737303088741869\n",
      "Num_samples: 81920 Sequential Time:  66.69109416007996 Parallel Time: 18.920091152191162 Speedup: 3.5248822864342473\n"
     ]
    }
   ],
   "source": [
    "automl_data = test_automl_data()\n",
    "\n",
    "# Instantiate client\n",
    "client = Client()\n",
    "\n",
    "class TestBinaryClassificationPipeline(BinaryClassificationPipeline):\n",
    "    component_graph = [\"Logistic Regression Classifier\"]\n",
    "    \n",
    "num_pipelines = 16\n",
    "pipelines = []\n",
    "for i in range(num_pipelines):\n",
    "    pipelines.append(TestBinaryClassificationPipeline({}))\n",
    "    \n",
    "seq_times = []\n",
    "par_times = []\n",
    "speed_up = []\n",
    "num_samples= [10, 40, 160, 640, 2560, 5120, 10240, 20480, 40960, 81920]\n",
    "\n",
    "for n_s in num_samples:\n",
    "    X, y = datasets.make_classification(n_samples=n_s, n_features=200,\n",
    "                                    n_informative=2, n_redundant=2, random_state=0)\n",
    "\n",
    "    engine = DaskEngine(client)\n",
    "    parallel_time, parallel_results = time_parallel(engine.submit_training_job, pipelines, X, y, client)\n",
    "    par_times.append(parallel_time)\n",
    "\n",
    "    engine = SequentialEngine()\n",
    "    sequential_time, sequential_results = time_sequential(engine.submit_training_job, pipelines, X, y)\n",
    "    seq_times.append(sequential_time)\n",
    "    speed_up.append(sequential_time/parallel_time)\n",
    "    \n",
    "    print(\"Num_samples:\", n_s, \"Sequential Time: \", sequential_time, \"Parallel Time:\", parallel_time, \n",
    "          \"Speedup:\", speed_up[-1])\n",
    "    \n",
    "# Close client\n",
    "client.close()"
   ]
  },
  {
   "cell_type": "code",
   "execution_count": 10,
   "metadata": {},
   "outputs": [
    {
     "data": {
      "text/plain": [
       "Text(0, 0.5, 'Wall Clock Time (s)')"
      ]
     },
     "execution_count": 10,
     "metadata": {},
     "output_type": "execute_result"
    },
    {
     "data": {
      "image/png": "[encoded data removed]",
      "text/plain": [
       "<Figure size 432x288 with 1 Axes>"
      ]
     },
     "metadata": {
      "needs_background": "light"
     },
     "output_type": "display_data"
    }
   ],
   "source": [
    "df = pd.DataFrame()\n",
    "df[\"Num Samples\"] = num_samples\n",
    "df[\"Sequential Time\"] = seq_times\n",
    "df[\"Parallel Time\"] = par_times\n",
    "\n",
    "ax = df.plot(kind=\"scatter\", x=\"Num Samples\", y = \"Sequential Time\", color=\"r\")\n",
    "df.plot(kind=\"scatter\", x=\"Num Samples\", y = \"Parallel Time\", color=\"g\", ax=ax)\n",
    "ax.legend([\"Sequential\", \"Parallel\"])\n",
    "ax.set_title(\"Training Pipelines\")\n",
    "ax.set_xlabel(\"Num Samples\")\n",
    "ax.set_ylabel(\"Wall Clock Time (s)\")"
   ]
  },
  {
   "cell_type": "code",
   "execution_count": null,
   "metadata": {},
   "outputs": [],
   "source": [
    "for n_s in num_samples:\n",
    "    X, y = datasets.make_classification(n_samples=n_s, n_features=200,\n",
    "                                    n_informative=2, n_redundant=2, random_state=0)\n",
    "\n",
    "    engine = DaskEngine(client)\n",
    "    parallel_time, parallel_results = time_parallel(engine.submit_training_job, pipelines, X, y, client)\n",
    "    par_times.append(parallel_time)\n",
    "\n",
    "    engine = SequentialEngine()\n",
    "    sequential_time, sequential_results = time_sequential(engine.submit_training_job, pipelines, X, y)\n",
    "    seq_times.append(sequential_time)\n",
    "    speed_up.append(sequential_time/parallel_time)\n",
    "    \n",
    "    print(\"Num_samples:\", n_s, \"Sequential Time: \", sequential_time, \"Parallel Time:\", parallel_time, \n",
    "          \"Speedup:\", speed_up[-1])\n",
    "    "
   ]
  },
  {
   "cell_type": "code",
   "execution_count": null,
   "metadata": {},
   "outputs": [],
   "source": [
    "# without scatter Sequential Time:  5.393399953842163 Parallel Time: 3.6696488857269287\n",
    "\n",
    "# 40000 samples, 200 n_features\n",
    "# Without scatter Sequential Time:  27.692340850830078 Parallel Time: 11.069131135940552\n",
    "# With scatter/broadcast = False Sequential Time: 27.925297737121582 Parallel Time: 11.293490886688232\n",
    "# With scatter/broadcast = True Sequential Time:  27.503095149993896 Parallel Time: 11.242128133773804\n",
    "\n",
    "# 40000 samples, 2000 n_features, n_pipelines = 16\n",
    "# Without scatter Sequential Time:  122.6994891166687 Parallel Time: 119.01962494850159\n",
    "# With scatter/broadcast = False Sequential Time:  123.0830340385437 Parallel Time: 90.91308689117432\n",
    "# With scatter/broadcast = True Sequential Time: 123.36094689369202 Parallel Time: 102.01213908195496\n",
    "\n"
   ]
  },
  {
   "cell_type": "code",
   "execution_count": null,
   "metadata": {},
   "outputs": [],
   "source": [
    "\\\\\\\\\\\\\\\\\\"
   ]
  }
 ],
 "metadata": {
  "kernelspec": {
   "display_name": "Python 3",
   "language": "python",
   "name": "python3"
  },
  "language_info": {
   "codemirror_mode": {
    "name": "ipython",
    "version": 3
   },
   "file_extension": ".py",
   "mimetype": "text/x-python",
   "name": "python",
   "nbconvert_exporter": "python",
   "pygments_lexer": "ipython3",
   "version": "3.8.0"
  }
 },
 "nbformat": 4,
 "nbformat_minor": 4
}
